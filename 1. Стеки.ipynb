{
 "cells": [
  {
   "cell_type": "markdown",
   "id": "cf143411",
   "metadata": {},
   "source": [
    "# задача"
   ]
  },
  {
   "cell_type": "code",
   "execution_count": 69,
   "id": "7644e96d",
   "metadata": {
    "ExecuteTime": {
     "end_time": "2023-02-18T11:17:52.590309Z",
     "start_time": "2023-02-18T11:17:52.573799Z"
    }
   },
   "outputs": [
    {
     "name": "stdout",
     "output_type": "stream",
     "text": [
      "ok\n",
      "ok\n",
      "2\n",
      "7\n",
      "1\n",
      "5\n",
      "5\n",
      "0\n",
      "error\n"
     ]
    }
   ],
   "source": [
    "class stack:\n",
    "    def __init__(self):\n",
    "        self.array = []\n",
    "        self.size = 0\n",
    "        \n",
    "    def push(self, x):\n",
    "        self.array.append(x)\n",
    "        self.size += 1\n",
    "        \n",
    "    def pop(self):\n",
    "        if self.size == 0:\n",
    "            return 'error'\n",
    "        self.size -= 1\n",
    "        x = self.array[self.size]\n",
    "        self.array.pop()\n",
    "        return x\n",
    "        \n",
    "    def back(self):\n",
    "        if self.size == 0:\n",
    "            return 'error'\n",
    "        return self.array[self.size - 1]\n",
    "    \n",
    "    def clear(self):\n",
    "        self.size = 0\n",
    "        self.array = []\n",
    "\n",
    "\n",
    "f = open('input.txt', 'r')\n",
    "\n",
    "inp = []\n",
    "for line in f:\n",
    "    inp.append(line.split())\n",
    "f.close()\n",
    "\n",
    "stack = stack()\n",
    "for line in inp:\n",
    "    match line[0]:\n",
    "        case 'push':\n",
    "            stack.push(int(line[1]))\n",
    "            print(\"ok\")\n",
    "        case 'pop':\n",
    "            x = stack.pop()\n",
    "            print(x)\n",
    "        case 'back':\n",
    "            x = stack.back()\n",
    "            print(x)\n",
    "        case 'size':\n",
    "            print(stack.size)\n",
    "        case 'clear':\n",
    "            stack.clear()\n",
    "            print(\"ok\")\n",
    "        case 'exit':\n",
    "            print(\"bye\")\n",
    "            break"
   ]
  },
  {
   "cell_type": "markdown",
   "id": "fc51feb0",
   "metadata": {},
   "source": [
    "# Задача"
   ]
  },
  {
   "cell_type": "code",
   "execution_count": 89,
   "id": "af51e3f5",
   "metadata": {
    "ExecuteTime": {
     "end_time": "2023-02-18T11:39:01.422286Z",
     "start_time": "2023-02-18T11:39:01.410579Z"
    }
   },
   "outputs": [
    {
     "name": "stdout",
     "output_type": "stream",
     "text": [
      "no\n"
     ]
    }
   ],
   "source": [
    "class stack:\n",
    "    def __init__(self):\n",
    "        self.array = []\n",
    "        self.size = 0\n",
    "        \n",
    "    def push(self, x):\n",
    "        self.array.append(x)\n",
    "        self.size += 1\n",
    "        \n",
    "    def pop(self):\n",
    "        if self.size == 0:\n",
    "            return 'error'\n",
    "        self.size -= 1\n",
    "        x = self.array[self.size]\n",
    "        self.array.pop()\n",
    "        return x\n",
    "        \n",
    "    def back(self):\n",
    "        if self.size == 0:\n",
    "            return 'error'\n",
    "        return self.array[self.size - 1]\n",
    "    \n",
    "    def clear(self):\n",
    "        self.size = 0\n",
    "        self.array = []\n",
    "\n",
    "\n",
    "f = open('input.txt', 'r')\n",
    "\n",
    "inp = f.read()\n",
    "f.close()\n",
    "\n",
    "\n",
    "opening = ['(', '[', '{']\n",
    "closing = [')', ']', '}']\n",
    "result = 1\n",
    "stack = stack()\n",
    "for item in inp:\n",
    "    if item in opening:\n",
    "        stack.push(item)\n",
    "    if item in closing:\n",
    "        if (stack.size == 0) or (opening[closing.index(item)] != stack.pop()):\n",
    "            result = 0\n",
    "            break\n",
    "            \n",
    "if stack.size > 0:\n",
    "    result = 0\n",
    "    \n",
    "if result == 1:\n",
    "    print('yes')\n",
    "else:\n",
    "    print('no')"
   ]
  },
  {
   "cell_type": "markdown",
   "id": "0a727a0c",
   "metadata": {},
   "source": [
    "# задача"
   ]
  },
  {
   "cell_type": "code",
   "execution_count": 95,
   "id": "31794a5d",
   "metadata": {
    "ExecuteTime": {
     "end_time": "2023-02-18T11:48:42.122688Z",
     "start_time": "2023-02-18T11:48:42.111532Z"
    }
   },
   "outputs": [
    {
     "name": "stdout",
     "output_type": "stream",
     "text": [
      "-102\n"
     ]
    }
   ],
   "source": [
    "class stack:\n",
    "    def __init__(self):\n",
    "        self.array = []\n",
    "        self.size = 0\n",
    "        \n",
    "    def push(self, x):\n",
    "        self.array.append(x)\n",
    "        self.size += 1\n",
    "        \n",
    "    def pop(self):\n",
    "        if self.size == 0:\n",
    "            return 'error'\n",
    "        self.size -= 1\n",
    "        x = self.array[self.size]\n",
    "        self.array.pop()\n",
    "        return x\n",
    "        \n",
    "    def back(self):\n",
    "        if self.size == 0:\n",
    "            return 'error'\n",
    "        return self.array[self.size - 1]\n",
    "    \n",
    "    def clear(self):\n",
    "        self.size = 0\n",
    "        self.array = []\n",
    "\n",
    "\n",
    "f = open('input.txt', 'r')\n",
    "\n",
    "inp = f.read().split()\n",
    "f.close()\n",
    "\n",
    "\n",
    "result = 0\n",
    "operands = ['+', '-', '*']\n",
    "stack = stack()\n",
    "for item in inp:\n",
    "    if item not in operands:\n",
    "        stack.push(int(item))\n",
    "    else:\n",
    "        match item:\n",
    "            case '+':\n",
    "                stack.push(stack.pop() + stack.pop())\n",
    "            case '-':\n",
    "                stack.push(- (stack.pop() - stack.pop()))\n",
    "            case '*':\n",
    "                stack.push(stack.pop() * stack.pop())\n",
    "    \n",
    "print(stack.pop())"
   ]
  },
  {
   "cell_type": "markdown",
   "id": "680dca6b",
   "metadata": {
    "ExecuteTime": {
     "end_time": "2023-02-18T11:45:44.471819Z",
     "start_time": "2023-02-18T11:45:44.466737Z"
    }
   },
   "source": [
    "# задача"
   ]
  },
  {
   "cell_type": "code",
   "execution_count": 148,
   "id": "f3d12bee",
   "metadata": {
    "ExecuteTime": {
     "end_time": "2023-02-18T12:42:15.629547Z",
     "start_time": "2023-02-18T12:42:15.615796Z"
    }
   },
   "outputs": [
    {
     "name": "stdout",
     "output_type": "stream",
     "text": [
      "NO\n"
     ]
    }
   ],
   "source": [
    "class stack:\n",
    "    def __init__(self):\n",
    "        self.array = []\n",
    "        self.size = 0\n",
    "        \n",
    "    def push(self, x):\n",
    "        self.array.append(x)\n",
    "        self.size += 1\n",
    "        \n",
    "    def pop(self):\n",
    "        if self.size == 0:\n",
    "            return 'error'\n",
    "        self.size -= 1\n",
    "        x = self.array[self.size]\n",
    "        self.array.pop()\n",
    "        return x\n",
    "        \n",
    "    def back(self):\n",
    "        if self.size == 0:\n",
    "            return 'error'\n",
    "        return self.array[self.size - 1]\n",
    "    \n",
    "    def clear(self):\n",
    "        self.size = 0\n",
    "        self.array = []\n",
    "\n",
    "\n",
    "f = open('input.txt', 'r')\n",
    "\n",
    "N = int(f.readline())\n",
    "wagons = list(map(int, f.readline().split()))\n",
    "f.close()\n",
    "\n",
    "\n",
    "new_wagons = [] # Объединяю вагоны в блоки\n",
    "cur_series = [wagons[0]]\n",
    "for num in wagons[1:]:\n",
    "    if num == cur_series[-1] - 1:\n",
    "        cur_series.append(num)\n",
    "    else:\n",
    "        new_wagons.append(cur_series)\n",
    "        cur_series = [num]\n",
    "if len(cur_series) > 0:\n",
    "    new_wagons.append(cur_series)\n",
    "\n",
    "cur_tail = 0\n",
    "result = 1\n",
    "stack = stack()\n",
    "\n",
    "for block in new_wagons:\n",
    "    if block[-1] == cur_tail + 1:\n",
    "        cur_tail = block[0]\n",
    "    else:\n",
    "        stack.push(block)\n",
    "    \n",
    "    while 1:\n",
    "        block = stack.back()\n",
    "        if block[-1] == cur_tail + 1:\n",
    "            cur_tail = block[0]\n",
    "            stack.pop()\n",
    "        else:\n",
    "            break\n",
    "        \n",
    "while stack.size > 0:\n",
    "    block = stack.pop()\n",
    "    if block[-1] == cur_tail + 1:\n",
    "        cur_tail = block[0]\n",
    "    else:\n",
    "        result = 0\n",
    "        \n",
    "if result:\n",
    "    print('YES')\n",
    "else:\n",
    "    print('NO')"
   ]
  },
  {
   "cell_type": "markdown",
   "id": "b6034fbe",
   "metadata": {},
   "source": [
    "# задача"
   ]
  },
  {
   "cell_type": "code",
   "execution_count": 164,
   "id": "fcdc0d1a",
   "metadata": {
    "ExecuteTime": {
     "end_time": "2023-02-18T12:58:36.112683Z",
     "start_time": "2023-02-18T12:58:36.096807Z"
    }
   },
   "outputs": [
    {
     "name": "stdout",
     "output_type": "stream",
     "text": [
      "-1\n",
      "4\n",
      "3\n",
      "4\n",
      "-1\n",
      "6\n",
      "9\n",
      "8\n",
      "9\n",
      "-1\n"
     ]
    }
   ],
   "source": [
    "class stack:\n",
    "    def __init__(self):\n",
    "        self.array = []\n",
    "        self.size = 0\n",
    "        \n",
    "    def push(self, x):\n",
    "        self.array.append(x)\n",
    "        self.size += 1\n",
    "        \n",
    "    def pop(self):\n",
    "        if self.size == 0:\n",
    "            return 'error'\n",
    "        self.size -= 1\n",
    "        x = self.array[self.size]\n",
    "        self.array.pop()\n",
    "        return x\n",
    "        \n",
    "    def back(self):\n",
    "        if self.size == 0:\n",
    "            return 'error'\n",
    "        return self.array[self.size - 1]\n",
    "    \n",
    "    def clear(self):\n",
    "        self.size = 0\n",
    "        self.array = []\n",
    "\n",
    "\n",
    "f = open('input.txt', 'r')\n",
    "\n",
    "N = int(f.readline())\n",
    "costs = list(map(int, f.readline().split()))\n",
    "f.close()\n",
    "\n",
    "\n",
    "for i in range(N):\n",
    "    costs[i] = (i, costs[i])\n",
    "\n",
    "result = [-1] * N\n",
    "\n",
    "stack = stack()\n",
    "for item in costs:\n",
    "    while (stack.size > 0) and (item[1] < stack.back()[1]):\n",
    "        result[stack.pop()[0]] = item[0]\n",
    "    stack.push(item)\n",
    "        \n",
    "for i in range(N):\n",
    "    print(result[i])"
   ]
  },
  {
   "cell_type": "code",
   "execution_count": null,
   "id": "19cf42fb",
   "metadata": {},
   "outputs": [],
   "source": []
  }
 ],
 "metadata": {
  "kernelspec": {
   "display_name": "Python (final_env)",
   "language": "python",
   "name": "final_env"
  },
  "language_info": {
   "codemirror_mode": {
    "name": "ipython",
    "version": 3
   },
   "file_extension": ".py",
   "mimetype": "text/x-python",
   "name": "python",
   "nbconvert_exporter": "python",
   "pygments_lexer": "ipython3",
   "version": "3.10.6"
  },
  "toc": {
   "base_numbering": 1,
   "nav_menu": {},
   "number_sections": true,
   "sideBar": true,
   "skip_h1_title": false,
   "title_cell": "Table of Contents",
   "title_sidebar": "Contents",
   "toc_cell": false,
   "toc_position": {},
   "toc_section_display": true,
   "toc_window_display": false
  },
  "varInspector": {
   "cols": {
    "lenName": 16,
    "lenType": 16,
    "lenVar": 40
   },
   "kernels_config": {
    "python": {
     "delete_cmd_postfix": "",
     "delete_cmd_prefix": "del ",
     "library": "var_list.py",
     "varRefreshCmd": "print(var_dic_list())"
    },
    "r": {
     "delete_cmd_postfix": ") ",
     "delete_cmd_prefix": "rm(",
     "library": "var_list.r",
     "varRefreshCmd": "cat(var_dic_list()) "
    }
   },
   "types_to_exclude": [
    "module",
    "function",
    "builtin_function_or_method",
    "instance",
    "_Feature"
   ],
   "window_display": false
  }
 },
 "nbformat": 4,
 "nbformat_minor": 5
}
