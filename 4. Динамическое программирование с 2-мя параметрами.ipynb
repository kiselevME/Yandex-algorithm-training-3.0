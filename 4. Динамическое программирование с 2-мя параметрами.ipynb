{
 "cells": [
  {
   "cell_type": "markdown",
   "id": "fa31ba7a",
   "metadata": {},
   "source": [
    "# задача"
   ]
  },
  {
   "cell_type": "code",
   "execution_count": 79,
   "id": "72f30bac",
   "metadata": {
    "ExecuteTime": {
     "end_time": "2023-02-27T20:13:49.851757Z",
     "start_time": "2023-02-27T20:13:49.838569Z"
    }
   },
   "outputs": [
    {
     "name": "stdout",
     "output_type": "stream",
     "text": [
      "11\n"
     ]
    }
   ],
   "source": [
    "f = open('input.txt', 'r')\n",
    "\n",
    "N, M = map(int, f.readline().split())\n",
    "costs = []\n",
    "for i in range(N):\n",
    "    costs += list(map(int, f.readline().split()))\n",
    "f.close()\n",
    "\n",
    "\n",
    "def find_path(N, M, costs, initial_val):\n",
    "    dp = [-1]*(N+1)*(M+1)\n",
    "    dp[1*(M+1) + 1] = initial_val - costs[0*M + 0]\n",
    "    for i in range(1, N+1):\n",
    "        for j in range(1, M+1):\n",
    "            if max(dp[(i-1)*(M+1) + j], dp[i*(M+1) + j-1]) - costs[(i-1)*M + j-1] >= 0:\n",
    "                dp[i*(M+1) + j] = max(dp[(i-1)*(M+1) + j], dp[i*(M+1) + j-1]) - costs[(i-1)*M + j-1]\n",
    "    return dp[N*(M+1) + M]\n",
    "                \n",
    "# bin search\n",
    "left = 0\n",
    "right = 3900\n",
    "\n",
    "while right-left > 1 :\n",
    "    m = (right+left)//2\n",
    "    if find_path(N, M, costs, m) >= 0:\n",
    "        right = m\n",
    "    else:\n",
    "        left = m\n",
    "        \n",
    "if find_path(N, M, costs, right-1) >= 0:\n",
    "    print(right-1)\n",
    "else:\n",
    "    print(right)"
   ]
  },
  {
   "cell_type": "markdown",
   "id": "ee75fad1",
   "metadata": {},
   "source": [
    "# задача"
   ]
  },
  {
   "cell_type": "code",
   "execution_count": 88,
   "id": "1cad7c64",
   "metadata": {
    "ExecuteTime": {
     "end_time": "2023-02-27T20:28:11.449613Z",
     "start_time": "2023-02-27T20:28:11.436457Z"
    }
   },
   "outputs": [
    {
     "name": "stdout",
     "output_type": "stream",
     "text": [
      "74\n",
      "D D R R R R D D "
     ]
    }
   ],
   "source": [
    "f = open('input.txt', 'r')\n",
    "\n",
    "N, M = map(int, f.readline().split())\n",
    "costs = []\n",
    "for i in range(N):\n",
    "    costs += list(map(int, f.readline().split()))\n",
    "f.close()\n",
    "\n",
    "\n",
    "def find_path(N, M, costs):\n",
    "    dp = [0]*(N+1)*(M+1)\n",
    "    dp[1*(M+1) + 1] = costs[0*M + 0]\n",
    "    for i in range(1, N+1):\n",
    "        for j in range(1, M+1):\n",
    "            dp[i*(M+1) + j] = max(dp[(i-1)*(M+1) + j], dp[i*(M+1) + j-1]) + costs[(i-1)*M + j-1]\n",
    "      \n",
    "    path = ''\n",
    "    while (i > 1) or (j > 1):\n",
    "        if (i >= 2) and (dp[(i-1)*(M+1) + j] == dp[i*(M+1) + j] - costs[(i-1)*M + j-1]):\n",
    "            path += 'D'\n",
    "            i -= 1\n",
    "        elif (j >= 2) and (dp[i*(M+1) + j-1] == dp[i*(M+1) + j] - costs[(i-1)*M + j-1]):\n",
    "            path += 'R'\n",
    "            j -= 1\n",
    "    return dp[N*(M+1) + M], path[::-1]\n",
    "                \n",
    "ans, path = find_path(N, M, costs)\n",
    "\n",
    "print(ans)\n",
    "for item in path:\n",
    "    print(item, end = ' ')"
   ]
  },
  {
   "cell_type": "markdown",
   "id": "eca67484",
   "metadata": {},
   "source": [
    "# задача"
   ]
  },
  {
   "cell_type": "code",
   "execution_count": 90,
   "id": "dfad9bc3",
   "metadata": {
    "ExecuteTime": {
     "end_time": "2023-02-27T20:39:17.245952Z",
     "start_time": "2023-02-27T20:39:17.237562Z"
    }
   },
   "outputs": [
    {
     "name": "stdout",
     "output_type": "stream",
     "text": [
      "293930\n"
     ]
    }
   ],
   "source": [
    "f = open('input.txt', 'r')\n",
    "N, M = map(int, f.readline().split())\n",
    "f.close()\n",
    "\n",
    "\n",
    "def find_path(N, M):\n",
    "    dp = [0]*N*M\n",
    "    dp[0*M + 0] = 1\n",
    "    for i in range(N):\n",
    "        for j in range(M):\n",
    "            if (i > 1) and (j > 1):\n",
    "                dp[i*M + j] = dp[(i-2)*M + j-1] + dp[(i-1)*M + j-2]\n",
    "            elif (i > 1) and (j > 0):\n",
    "                dp[i*M + j] = dp[(i-2)*M + j-1]\n",
    "            elif (i > 0) and (j > 1):\n",
    "                dp[i*M + j] = dp[(i-1)*M + j-2]\n",
    "    return dp[(N-1)*M + M-1]\n",
    "\n",
    "print(find_path(N, M))"
   ]
  },
  {
   "cell_type": "markdown",
   "id": "a9653e5b",
   "metadata": {},
   "source": [
    "# задача"
   ]
  },
  {
   "cell_type": "code",
   "execution_count": 6,
   "id": "a5f2b83d",
   "metadata": {
    "ExecuteTime": {
     "end_time": "2023-03-04T08:48:57.356365Z",
     "start_time": "2023-03-04T08:48:57.304969Z"
    }
   },
   "outputs": [
    {
     "ename": "ValueError",
     "evalue": "invalid literal for int() with base 10: '1 2 3 4 5 6 7 8 9 10\\n'",
     "output_type": "error",
     "traceback": [
      "\u001b[0;31m---------------------------------------------------------------------------\u001b[0m",
      "\u001b[0;31mValueError\u001b[0m                                Traceback (most recent call last)",
      "Input \u001b[0;32mIn [6]\u001b[0m, in \u001b[0;36m<cell line: 4>\u001b[0;34m()\u001b[0m\n\u001b[1;32m      3\u001b[0m costs \u001b[38;5;241m=\u001b[39m []\n\u001b[1;32m      4\u001b[0m \u001b[38;5;28;01mfor\u001b[39;00m i \u001b[38;5;129;01min\u001b[39;00m \u001b[38;5;28mrange\u001b[39m (N):\n\u001b[0;32m----> 5\u001b[0m     costs\u001b[38;5;241m.\u001b[39mappend(\u001b[38;5;28;43mint\u001b[39;49m\u001b[43m(\u001b[49m\u001b[43mf\u001b[49m\u001b[38;5;241;43m.\u001b[39;49m\u001b[43mreadline\u001b[49m\u001b[43m(\u001b[49m\u001b[43m)\u001b[49m\u001b[43m)\u001b[49m)\n\u001b[1;32m      6\u001b[0m f\u001b[38;5;241m.\u001b[39mclose()\n\u001b[1;32m      9\u001b[0m \u001b[38;5;28;01mdef\u001b[39;00m \u001b[38;5;21mfind_path\u001b[39m(N, costs):\n",
      "\u001b[0;31mValueError\u001b[0m: invalid literal for int() with base 10: '1 2 3 4 5 6 7 8 9 10\\n'"
     ]
    }
   ],
   "source": [
    "f = open('input.txt', 'r')\n",
    "N = int(f.readline())\n",
    "costs = []\n",
    "for i in range (N):\n",
    "    costs.append(int(f.readline()))\n",
    "f.close()\n",
    "\n",
    "\n",
    "def find_path(N, costs):\n",
    "    if N == 0:\n",
    "        return 0, 0, []\n",
    "    \n",
    "    sum = [301*N]*(N+1)*N\n",
    "    if costs[0] > 100:\n",
    "        sum[1*N + 0] = costs[0]\n",
    "    else:\n",
    "        sum[0*N + 0] = costs[0]\n",
    "    for j in range(1, N):\n",
    "        if costs[j] <= 100:\n",
    "            sum[0*N + j] = min(sum[0*N + j-1] + costs[j], sum[1*N + j-1])\n",
    "        else:\n",
    "            sum[0*N + j] = sum[1*N + j-1]\n",
    "        for i in range(1, N):\n",
    "            if costs[j] > 100:\n",
    "                sum[i*N + j] = min(sum[(i-1)*N + j-1] + costs[j], sum[(i+1)*N + j-1])\n",
    "            else:\n",
    "                sum[i*N + j] = min(sum[i*N + j-1] + costs[j], sum[(i+1)*N + j-1])\n",
    "    \n",
    "    # вычисление ответа\n",
    "    cnt = 0\n",
    "    res = 301*N\n",
    "    for i in range (N+1):\n",
    "        if sum[i*N + N-1] <= res:\n",
    "            res = sum[i*N + N-1]\n",
    "            cnt = i\n",
    "    # обратный проход\n",
    "    exp = []\n",
    "    i = cnt\n",
    "    for j in range (N-1, 0, -1):\n",
    "        if costs[j] > 100:\n",
    "            if i > 0:\n",
    "                if sum[i*N + j] - costs[j] == sum[(i-1)*N + j-1]:\n",
    "                    i -= 1\n",
    "                else:\n",
    "                    i += 1\n",
    "                    exp.append(j+1)\n",
    "            else:\n",
    "                i += 1\n",
    "                exp.append(j+1)\n",
    "        else:\n",
    "            if sum[i*N + j] == sum[(i+1)*N + j-1]:\n",
    "                i += 1\n",
    "                exp.append(j+1)\n",
    "    \n",
    "    for i in range (N+1):\n",
    "        for j in range (N):\n",
    "            print(sum[i*N + j], end = ' ')\n",
    "        print()\n",
    "    \n",
    "    return res, cnt, exp[::-1]\n",
    "\n",
    "res, cnt, exp = find_path(N, costs)\n",
    "print(res)\n",
    "print(cnt, len(exp))\n",
    "for item in exp:\n",
    "    print(item)"
   ]
  },
  {
   "cell_type": "markdown",
   "id": "ca3a9073",
   "metadata": {},
   "source": [
    "# задача"
   ]
  },
  {
   "cell_type": "code",
   "execution_count": 57,
   "id": "9dc61853",
   "metadata": {
    "ExecuteTime": {
     "end_time": "2023-03-04T10:34:58.091529Z",
     "start_time": "2023-03-04T10:34:58.067041Z"
    }
   },
   "outputs": [
    {
     "name": "stdout",
     "output_type": "stream",
     "text": [
      "1 4 2 3 2 2 4 5 6 5 "
     ]
    }
   ],
   "source": [
    "f = open('input.txt', 'r')\n",
    "N = int(f.readline())\n",
    "first = list(map(int,f.readline().split()))\n",
    "M = int(f.readline())\n",
    "second = list(map(int,f.readline().split()))\n",
    "f.close()\n",
    "\n",
    "\n",
    "def find_path(N, M, first, second):\n",
    "    if N > M:\n",
    "        second += [10001]*(N-M)\n",
    "    elif N < M:\n",
    "        first += [10001]*(M-N)\n",
    "        \n",
    "    L = max(N, M)\n",
    "    dp = [0]*(L+1)*(L+1)\n",
    "    prev_first = -1\n",
    "    prev_second = -1\n",
    "    \n",
    "    # верхний треугольник\n",
    "    for k in range (2, L+2):\n",
    "        for i in range (1, k):\n",
    "            if first[i-1] == second[k-i-1]:\n",
    "                dp[i*(L+1) + k-i] = dp[(i-1)*(L+1) + k-i-1] + 1\n",
    "#                 if prev_first != i-1 and prev_second != k-i-1:\n",
    "#                     dp[i*(L+1) + k-i] += 1\n",
    "#                     prev_first = i-1\n",
    "#                     prev_second = k-i-1\n",
    "            else:\n",
    "                dp[i*(L+1) + k-i] = max(dp[(i-1)*(L+1) + k-i], dp[i*(L+1) + k-i-1])\n",
    "                    \n",
    "    # нижний треугольник            \n",
    "    for k in range (L+2, 2*L+1):\n",
    "        for i in range (k - L, L+1):\n",
    "            if first[i-1] == second[k-i-1]:\n",
    "                dp[i*(L+1) + k-i] = dp[(i-1)*(L+1) + k-i-1] + 1\n",
    "#                 if prev_first != i-1 and prev_second != k-i-1:\n",
    "#                     dp[i*(L+1) + k-i] += 1\n",
    "#                     prev_first = i-1\n",
    "#                     prev_second = k-i-1\n",
    "            else:\n",
    "                dp[i*(L+1) + k-i] = max(dp[(i-1)*(L+1) + k-i], dp[i*(L+1) + k-i-1])\n",
    "                \n",
    "    max_seq = dp[N*(L+1) + M]\n",
    "    # Обратный ход\n",
    "    \n",
    "#     for i in range (1, N+1):\n",
    "#         for j in range (1, M+1):\n",
    "#             print(dp[i*(L+1) + j], end = ' ')\n",
    "#         print()\n",
    "    \n",
    "    i = N\n",
    "    j = M\n",
    "    ans = []\n",
    "    \n",
    "    flag = 0\n",
    "    while i > 1 or j > 1:\n",
    "        flag = 0\n",
    "#         print(i, j)\n",
    "#         print(dp[i*(L+1) + j-1], dp[(i-1)*(L+1) + j], dp[i*(L+1) + j])\n",
    "        \n",
    "        if (j > 1) and (dp[i*(L+1) + j] == dp[i*(L+1) + j-1]):\n",
    "            j -= 1\n",
    "        elif (i > 1) and (dp[i*(L+1) + j] == dp[(i-1)*(L+1) + j]):\n",
    "            i -= 1\n",
    "        \n",
    "        if (dp[i*(L+1) + j-1] < dp[i*(L+1) + j]) and (dp[(i-1)*(L+1) + j] < dp[i*(L+1) + j]):\n",
    "            ans.append(first[i-1])\n",
    "            flag = 1\n",
    "            if dp[i*(L+1) + j-1] > dp[(i-1)*(L+1) + j]:\n",
    "                j -= 1\n",
    "            else:\n",
    "                i -= 1\n",
    "                \n",
    "    if (flag == 0) and (dp[1*(L+1) + 1] > 0):\n",
    "        ans.append(first[0])\n",
    "        \n",
    "#         print(ans)\n",
    "#         print()\n",
    "        \n",
    "    return ans[::-1]\n",
    "    \n",
    "ans = find_path(N, M, first, second)\n",
    "for item in ans:\n",
    "    print(item, end = ' ')"
   ]
  },
  {
   "cell_type": "code",
   "execution_count": null,
   "id": "48ab6358",
   "metadata": {},
   "outputs": [],
   "source": []
  }
 ],
 "metadata": {
  "kernelspec": {
   "display_name": "Python (final_env)",
   "language": "python",
   "name": "final_env"
  },
  "language_info": {
   "codemirror_mode": {
    "name": "ipython",
    "version": 3
   },
   "file_extension": ".py",
   "mimetype": "text/x-python",
   "name": "python",
   "nbconvert_exporter": "python",
   "pygments_lexer": "ipython3",
   "version": "3.10.6"
  },
  "toc": {
   "base_numbering": 1,
   "nav_menu": {},
   "number_sections": true,
   "sideBar": true,
   "skip_h1_title": false,
   "title_cell": "Table of Contents",
   "title_sidebar": "Contents",
   "toc_cell": false,
   "toc_position": {},
   "toc_section_display": true,
   "toc_window_display": false
  },
  "varInspector": {
   "cols": {
    "lenName": 16,
    "lenType": 16,
    "lenVar": 40
   },
   "kernels_config": {
    "python": {
     "delete_cmd_postfix": "",
     "delete_cmd_prefix": "del ",
     "library": "var_list.py",
     "varRefreshCmd": "print(var_dic_list())"
    },
    "r": {
     "delete_cmd_postfix": ") ",
     "delete_cmd_prefix": "rm(",
     "library": "var_list.r",
     "varRefreshCmd": "cat(var_dic_list()) "
    }
   },
   "types_to_exclude": [
    "module",
    "function",
    "builtin_function_or_method",
    "instance",
    "_Feature"
   ],
   "window_display": false
  }
 },
 "nbformat": 4,
 "nbformat_minor": 5
}
