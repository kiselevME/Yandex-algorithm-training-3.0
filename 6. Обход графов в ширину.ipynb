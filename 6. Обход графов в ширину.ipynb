{
 "cells": [
  {
   "cell_type": "markdown",
   "id": "bb06ee8e",
   "metadata": {},
   "source": [
    "# задача"
   ]
  },
  {
   "cell_type": "code",
   "execution_count": 27,
   "id": "0199f279",
   "metadata": {
    "ExecuteTime": {
     "end_time": "2023-03-08T11:29:37.571710Z",
     "start_time": "2023-03-08T11:29:37.563400Z"
    }
   },
   "outputs": [
    {
     "name": "stdout",
     "output_type": "stream",
     "text": [
      "-1\n"
     ]
    }
   ],
   "source": [
    "# Ввод графа\n",
    "f = open('input.txt', 'r')\n",
    "N = int(f.readline())\n",
    "graph = [[]] * (N+1)\n",
    "for i in range(N):\n",
    "    cur = list(map(int, f.readline().split()))\n",
    "    for j in range(len(cur)):\n",
    "        if len(graph[i+1]) == 0:\n",
    "            graph[i+1] = [] # переопределение списка соседей\n",
    "        if cur[j] == 1:\n",
    "            graph[i+1].append(j+1)\n",
    "\n",
    "v_from, v_to = map(int, f.readline().split())\n",
    "f.close()\n",
    "\n",
    "# функция\n",
    "def wt(graph, visited, prev, pos, cnt):\n",
    "    new_pos = []\n",
    "    for cur in pos:\n",
    "        for neig in graph[cur]:\n",
    "            if (visited[neig] == -1):\n",
    "                visited[neig] = cnt+1\n",
    "                prev[neig] = cur\n",
    "                new_pos.append(neig)\n",
    "    \n",
    "    if len(new_pos) > 0:\n",
    "        wt(graph, visited, prev, new_pos, cnt+1)\n",
    "\n",
    "# основная часть        \n",
    "visited = [-1] * (N+1)\n",
    "prev = [-1] * (N+1)\n",
    "wt(graph, visited, prev, [v_from], 0)\n",
    "\n",
    "if v_from == v_to:\n",
    "    print(0)\n",
    "else:   \n",
    "    print(visited[v_to])"
   ]
  },
  {
   "cell_type": "markdown",
   "id": "57e06f5c",
   "metadata": {},
   "source": [
    "# задача"
   ]
  },
  {
   "cell_type": "code",
   "execution_count": 26,
   "id": "bbacf492",
   "metadata": {
    "ExecuteTime": {
     "end_time": "2023-03-08T11:26:34.329237Z",
     "start_time": "2023-03-08T11:26:34.322809Z"
    }
   },
   "outputs": [
    {
     "name": "stdout",
     "output_type": "stream",
     "text": [
      "-1\n"
     ]
    }
   ],
   "source": [
    "# Ввод графа\n",
    "f = open('input.txt', 'r')\n",
    "N = int(f.readline())\n",
    "graph = [[]] * (N+1)\n",
    "for i in range(N):\n",
    "    cur = list(map(int, f.readline().split()))\n",
    "    for j in range(len(cur)):\n",
    "        if len(graph[i+1]) == 0:\n",
    "            graph[i+1] = [] # переопределение списка соседей\n",
    "        if cur[j] == 1:\n",
    "            graph[i+1].append(j+1)\n",
    "\n",
    "v_from, v_to = map(int, f.readline().split())\n",
    "f.close()\n",
    "\n",
    "# функция\n",
    "def wt(graph, visited, prev, pos, cnt):\n",
    "    new_pos = []\n",
    "    for cur in pos:\n",
    "        for neig in graph[cur]:\n",
    "            if (visited[neig] == -1):\n",
    "                visited[neig] = cnt+1\n",
    "                prev[neig] = cur\n",
    "                new_pos.append(neig)\n",
    "    \n",
    "    if len(new_pos) > 0:\n",
    "        wt(graph, visited, prev, new_pos, cnt+1)\n",
    "\n",
    "# основная часть        \n",
    "visited = [-1] * (N+1)\n",
    "prev = [-1] * (N+1)\n",
    "wt(graph, visited, prev, [v_from], 0)\n",
    "\n",
    "if v_from == v_to:\n",
    "    print(0)\n",
    "elif visited[v_to] == -1:\n",
    "    print(-1)\n",
    "else:\n",
    "    i = v_to\n",
    "    ans = [v_to]\n",
    "    while prev[i] != v_from:\n",
    "        ans.append(prev[i])\n",
    "        i = prev[i]\n",
    "    ans.append(v_from)\n",
    "        \n",
    "    print(visited[v_to])\n",
    "    for item in ans[::-1]:\n",
    "        print(item, end = ' ')"
   ]
  },
  {
   "cell_type": "markdown",
   "id": "56801af5",
   "metadata": {
    "ExecuteTime": {
     "end_time": "2023-03-08T11:25:23.728571Z",
     "start_time": "2023-03-08T11:25:23.728563Z"
    }
   },
   "source": [
    "# задача"
   ]
  },
  {
   "cell_type": "code",
   "execution_count": 51,
   "id": "e71f28a2",
   "metadata": {
    "ExecuteTime": {
     "end_time": "2023-03-08T12:05:55.975211Z",
     "start_time": "2023-03-08T12:05:55.969958Z"
    }
   },
   "outputs": [
    {
     "name": "stdout",
     "output_type": "stream",
     "text": [
      "-1\n"
     ]
    }
   ],
   "source": [
    "# Ввод графа\n",
    "f = open('input.txt', 'r')\n",
    "N, M, S, T, Q = map(int, f.readline().split())\n",
    "bloch = [] * Q\n",
    "for i in range(Q):\n",
    "    bloch.append( list(map(int, f.readline().split())) )\n",
    "f.close()\n",
    "\n",
    "# Заполнение поля\n",
    "def fill_field(field, pos, cnt, N, M):\n",
    "    new_pos = []\n",
    "    for cur in pos:\n",
    "        for shift in [(2, 1), (1, 2), (-1, 2), (-2, 1), (-2, -1), (-1, -2), (1, -2), (2, -1)]:\n",
    "            if ((cur[0] + shift[0] > 0) and (cur[0] + shift[0] < N+1)) and\\\n",
    "               ((cur[1] + shift[1] > 0) and (cur[1] + shift[1] < M+1)) and\\\n",
    "               (field[(cur[0] + shift[0])*(M+1) + cur[1] + shift[1]] == -1):\n",
    "                \n",
    "                field[(cur[0] + shift[0])*(M+1) + cur[1] + shift[1]] = cnt+1\n",
    "                new_pos.append((cur[0] + shift[0], cur[1] + shift[1]))\n",
    "                \n",
    "    if len(new_pos) > 0:\n",
    "        fill_field(field, new_pos, cnt+1, N, M)\n",
    "\n",
    "# Запуск алгоритма\n",
    "field = [-1] * (N+1)*(M+1)\n",
    "field[S*(M+1) + T] = 0\n",
    "fill_field(field, [(S,T)], 0, N, M)\n",
    "\n",
    "ans = 0\n",
    "for cord in bloch:\n",
    "    if field[cord[0]*(M+1) + cord[1]] == -1:\n",
    "        ans = -1\n",
    "        break\n",
    "    else:\n",
    "        ans += field[cord[0]*(M+1) + cord[1]]\n",
    "        \n",
    "print(ans)"
   ]
  },
  {
   "cell_type": "markdown",
   "id": "395904b9",
   "metadata": {},
   "source": [
    "# задача"
   ]
  },
  {
   "cell_type": "code",
   "execution_count": 80,
   "id": "a71f31f7",
   "metadata": {
    "ExecuteTime": {
     "end_time": "2023-03-08T12:42:22.490217Z",
     "start_time": "2023-03-08T12:42:22.158044Z"
    }
   },
   "outputs": [
    {
     "name": "stdout",
     "output_type": "stream",
     "text": [
      "6989\n"
     ]
    }
   ],
   "source": [
    "from sys import setrecursionlimit\n",
    "setrecursionlimit(100000)\n",
    "# Ввод графа\n",
    "f = open('input.txt', 'r')\n",
    "N = int(f.readline())\n",
    "cave = [-1] * (N+1)**3\n",
    "for i in range(N):\n",
    "    f.readline()\n",
    "    for j in range(N):\n",
    "        cur = f.readline()\n",
    "        for h in range(N):\n",
    "            if cur[h] == '#':\n",
    "                cave[(i+1)*(N+1)*(N+1) + (j+1)*(N+1) + (h+1)] = -2\n",
    "            elif cur[h] == 'S':\n",
    "                S = (i+1, j+1, h+1)\n",
    "                cave[(i+1)*(N+1)*(N+1) + (j+1)*(N+1) + (h+1)] = 0\n",
    "f.close()\n",
    "\n",
    "# Нахождение выхода из пещеры\n",
    "def find_path(cave, pos, cnt, N):\n",
    "    new_pos = []\n",
    "    for cur in pos:\n",
    "        for shift in [(1, 0, 0), (-1, 0, 0), (0, 1, 0), (0, -1, 0), (0, 0, 1), (0, 0, -1)]:\n",
    "            if ((cur[0] + shift[0] > 0) and (cur[0] + shift[0] < N+1)) and\\\n",
    "               ((cur[1] + shift[1] > 0) and (cur[1] + shift[1] < N+1)) and\\\n",
    "               ((cur[2] + shift[2] > 0) and (cur[2] + shift[2] < N+1)) and\\\n",
    "               (cave[(cur[0] + shift[0])*(N+1)*(N+1) + (cur[1] + shift[1])*(N+1) + cur[2] + shift[2]] == -1):\n",
    "                \n",
    "                    cave[(cur[0] + shift[0])*(N+1)*(N+1) + (cur[1] + shift[1])*(N+1) + cur[2] + shift[2]] = cnt+1\n",
    "                    new_pos.append((cur[0] + shift[0], cur[1] + shift[1], cur[2] + shift[2]))\n",
    "                \n",
    "    if len(new_pos) > 0:\n",
    "        find_path(cave, new_pos, cnt+1, N)\n",
    "\n",
    "# Запуск алгоритма\n",
    "find_path(cave, [S], 0, N)\n",
    "\n",
    "# Поиск ответа\n",
    "ans = N*N*N\n",
    "for j in range(1, N+1):\n",
    "    for h in range(1, N+1):\n",
    "        if cave[1*(N+1)*(N+1) + j*(N+1) + h] > -1:\n",
    "            ans = min(ans, cave[1*(N+1)*(N+1) + j*(N+1) + h])\n",
    "print(ans)"
   ]
  },
  {
   "cell_type": "markdown",
   "id": "fa076a86",
   "metadata": {},
   "source": [
    "# задача"
   ]
  },
  {
   "cell_type": "code",
   "execution_count": 123,
   "id": "64d7c472",
   "metadata": {
    "ExecuteTime": {
     "end_time": "2023-03-08T13:26:44.923115Z",
     "start_time": "2023-03-08T13:26:44.916215Z"
    }
   },
   "outputs": [
    {
     "name": "stdout",
     "output_type": "stream",
     "text": [
      "0\n"
     ]
    }
   ],
   "source": [
    "# Ввод графа\n",
    "f = open('input.txt', 'r')\n",
    "N = int(f.readline())\n",
    "M = int(f.readline())\n",
    "lines = [[]]\n",
    "for i in range(1, M+1):\n",
    "    line = list(map(int, f.readline().split()))\n",
    "    lines.append([])\n",
    "    for j in range(1, line[0]+1):\n",
    "        lines[i].append(line[j])\n",
    "            \n",
    "st_from, st_to = map(int, f.readline().split())\n",
    "f.close()\n",
    "          \n",
    "line_from = []\n",
    "line_to = []\n",
    "graph = [[]]\n",
    "for i in range(1, M+1):\n",
    "    if st_from in lines[i]:\n",
    "        line_from.append(i)\n",
    "    if st_to in lines[i]:\n",
    "        line_to.append(i)\n",
    "    \n",
    "    graph.append([])\n",
    "    for j in range(1, M+1):\n",
    "        if (i != j) and len(set(lines[i]).intersection(set(lines[j]))) > 0:\n",
    "            graph[i].append(j)\n",
    "\n",
    "# Поиск ответа\n",
    "def find_ans(graph, visited, pos, cnt):\n",
    "    new_pos = []\n",
    "    for cur in pos:\n",
    "        for neig in graph[cur]:\n",
    "            if visited[neig] == -1:\n",
    "                visited[neig] = cnt+1\n",
    "                new_pos.append(neig)\n",
    "                \n",
    "    if len(new_pos) > 0:\n",
    "        find_ans(graph, visited, new_pos, cnt+1)\n",
    "\n",
    "# # Запуск алгоритма\n",
    "visited = [-1] * (M+1)\n",
    "for num in line_from:\n",
    "    visited[num] = 0\n",
    "find_ans(graph, visited, line_from, 0)\n",
    "\n",
    "ans = M\n",
    "for num in line_to:\n",
    "    ans = min(ans, visited[num])\n",
    "        \n",
    "print(ans)"
   ]
  },
  {
   "cell_type": "code",
   "execution_count": null,
   "id": "72c3244b",
   "metadata": {},
   "outputs": [],
   "source": []
  }
 ],
 "metadata": {
  "kernelspec": {
   "display_name": "Python (final_env)",
   "language": "python",
   "name": "final_env"
  },
  "language_info": {
   "codemirror_mode": {
    "name": "ipython",
    "version": 3
   },
   "file_extension": ".py",
   "mimetype": "text/x-python",
   "name": "python",
   "nbconvert_exporter": "python",
   "pygments_lexer": "ipython3",
   "version": "3.10.6"
  },
  "toc": {
   "base_numbering": 1,
   "nav_menu": {},
   "number_sections": true,
   "sideBar": true,
   "skip_h1_title": false,
   "title_cell": "Table of Contents",
   "title_sidebar": "Contents",
   "toc_cell": false,
   "toc_position": {},
   "toc_section_display": true,
   "toc_window_display": false
  },
  "varInspector": {
   "cols": {
    "lenName": 16,
    "lenType": 16,
    "lenVar": 40
   },
   "kernels_config": {
    "python": {
     "delete_cmd_postfix": "",
     "delete_cmd_prefix": "del ",
     "library": "var_list.py",
     "varRefreshCmd": "print(var_dic_list())"
    },
    "r": {
     "delete_cmd_postfix": ") ",
     "delete_cmd_prefix": "rm(",
     "library": "var_list.r",
     "varRefreshCmd": "cat(var_dic_list()) "
    }
   },
   "types_to_exclude": [
    "module",
    "function",
    "builtin_function_or_method",
    "instance",
    "_Feature"
   ],
   "window_display": false
  }
 },
 "nbformat": 4,
 "nbformat_minor": 5
}
