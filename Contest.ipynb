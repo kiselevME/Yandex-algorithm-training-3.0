{
 "cells": [
  {
   "cell_type": "markdown",
   "id": "922c45be",
   "metadata": {},
   "source": [
    "# задача"
   ]
  },
  {
   "cell_type": "code",
   "execution_count": 47,
   "id": "bdc174e7",
   "metadata": {
    "ExecuteTime": {
     "end_time": "2023-03-13T17:23:16.955741Z",
     "start_time": "2023-03-13T17:23:16.948522Z"
    }
   },
   "outputs": [
    {
     "name": "stdout",
     "output_type": "stream",
     "text": [
      "20\n",
      "15\n",
      "21\n"
     ]
    }
   ],
   "source": [
    "class stack:\n",
    "    def __init__(self):\n",
    "        self.wag = []\n",
    "        self.dic = {}\n",
    "\n",
    "    def add(self, cnt, item):\n",
    "        self.wag.append([item, cnt])\n",
    "        if item not in self.dic.keys():\n",
    "            self.dic[item] = 0\n",
    "        self.dic[item] += cnt\n",
    "\n",
    "    def delete(self, n_del):\n",
    "        while n_del > 0:\n",
    "            if n_del >= self.wag[-1][1]:\n",
    "                self.dic[self.wag[-1][0]] -= self.wag[-1][1]\n",
    "                n_del -= self.wag[-1][1]\n",
    "                self.wag = self.wag[:-1]\n",
    "            else:\n",
    "                self.dic[self.wag[-1][0]] -= n_del\n",
    "                self.wag[-1][1] -= n_del\n",
    "                n_del = 0\n",
    "\n",
    "    def get(self, item):\n",
    "        if item in self.dic.keys():\n",
    "            return self.dic[item]\n",
    "        else:\n",
    "            return 0\n",
    "        \n",
    "\n",
    "f = open('input.txt', 'r')\n",
    "N = int(f.readline())\n",
    "tasks = []\n",
    "for i in range(N):\n",
    "    tasks.append(f.readline().split())\n",
    "f.close()\n",
    "\n",
    "\n",
    "st = stack()\n",
    "for item in tasks:\n",
    "    if item[0] == 'add':\n",
    "        st.add(int(item[1]), item[2])\n",
    "    elif item[0] == 'delete':\n",
    "        st.delete(int(item[1]))\n",
    "    elif item[0] == 'get':\n",
    "        print(st.get(item[1]))"
   ]
  },
  {
   "cell_type": "markdown",
   "id": "cb727c99",
   "metadata": {},
   "source": [
    "# задача"
   ]
  },
  {
   "cell_type": "code",
   "execution_count": 21,
   "id": "4871fa1d",
   "metadata": {
    "ExecuteTime": {
     "end_time": "2023-03-13T16:06:23.996613Z",
     "start_time": "2023-03-13T16:06:23.989691Z"
    }
   },
   "outputs": [
    {
     "data": {
      "text/plain": [
       "2"
      ]
     },
     "execution_count": 21,
     "metadata": {},
     "output_type": "execute_result"
    }
   ],
   "source": [
    "f = open('input.txt', 'r')\n",
    "N, W = map(int, f.readline().split())\n",
    "tasks = []\n",
    "for i in range(N):\n",
    "    tasks.append(list(map(int, f.readline().split())))\n",
    "f.close()\n",
    "\n",
    "tasks = sorted(tasks, reverse = False)\n",
    "\n",
    "\n",
    "def check(times, m):\n",
    "    cnt = 0\n",
    "    for item in times:\n",
    "        if item[1] == -1:\n",
    "            cnt -= 1\n",
    "        else:\n",
    "            cnt += 1\n",
    "            \n",
    "        if cnt > m:\n",
    "            return False\n",
    "    return True\n",
    "        \n",
    "times = []\n",
    "for i in range(N):\n",
    "    times.append((tasks[i][0], 1))\n",
    "    times.append((tasks[i][0] + tasks[i][1], -1))\n",
    "times = sorted(times, reverse = False)\n",
    "# Бин поиск\n",
    "left = 1\n",
    "right = N\n",
    "while right - left > 1:\n",
    "    m = (left + right)//2\n",
    "    if check(times, m) == True:\n",
    "        right = m\n",
    "    else:\n",
    "        left = m\n",
    "        \n",
    "if check(times, left) == True:\n",
    "    ans = left\n",
    "else:\n",
    "    ans = right\n",
    "    \n",
    "ans"
   ]
  },
  {
   "cell_type": "code",
   "execution_count": 18,
   "id": "b3641b9a",
   "metadata": {
    "ExecuteTime": {
     "end_time": "2023-03-13T15:41:40.657061Z",
     "start_time": "2023-03-13T15:41:40.654170Z"
    }
   },
   "outputs": [
    {
     "data": {
      "text/plain": [
       "[[1, 2], [2, 2], [3, 2]]"
      ]
     },
     "execution_count": 18,
     "metadata": {},
     "output_type": "execute_result"
    }
   ],
   "source": [
    "tasks"
   ]
  },
  {
   "cell_type": "code",
   "execution_count": 19,
   "id": "7dc66348",
   "metadata": {
    "ExecuteTime": {
     "end_time": "2023-03-13T15:41:40.977205Z",
     "start_time": "2023-03-13T15:41:40.974345Z"
    }
   },
   "outputs": [
    {
     "data": {
      "text/plain": [
       "[(1, 1), (2, 1), (3, -1), (3, 1), (4, -1), (5, -1)]"
      ]
     },
     "execution_count": 19,
     "metadata": {},
     "output_type": "execute_result"
    }
   ],
   "source": [
    "times"
   ]
  },
  {
   "cell_type": "code",
   "execution_count": 23,
   "id": "c576b0f8",
   "metadata": {
    "ExecuteTime": {
     "end_time": "2023-03-13T16:55:06.825108Z",
     "start_time": "2023-03-13T16:55:06.822899Z"
    }
   },
   "outputs": [
    {
     "data": {
      "text/plain": [
       "[1, 2]"
      ]
     },
     "execution_count": 23,
     "metadata": {},
     "output_type": "execute_result"
    }
   ],
   "source": [
    "a = [1, 2, 3]\n",
    "a[:-1]"
   ]
  },
  {
   "cell_type": "code",
   "execution_count": null,
   "id": "811a8fe9",
   "metadata": {},
   "outputs": [],
   "source": []
  }
 ],
 "metadata": {
  "kernelspec": {
   "display_name": "Python (final_env)",
   "language": "python",
   "name": "final_env"
  },
  "language_info": {
   "codemirror_mode": {
    "name": "ipython",
    "version": 3
   },
   "file_extension": ".py",
   "mimetype": "text/x-python",
   "name": "python",
   "nbconvert_exporter": "python",
   "pygments_lexer": "ipython3",
   "version": "3.10.6"
  },
  "toc": {
   "base_numbering": 1,
   "nav_menu": {},
   "number_sections": true,
   "sideBar": true,
   "skip_h1_title": false,
   "title_cell": "Table of Contents",
   "title_sidebar": "Contents",
   "toc_cell": false,
   "toc_position": {},
   "toc_section_display": true,
   "toc_window_display": false
  },
  "varInspector": {
   "cols": {
    "lenName": 16,
    "lenType": 16,
    "lenVar": 40
   },
   "kernels_config": {
    "python": {
     "delete_cmd_postfix": "",
     "delete_cmd_prefix": "del ",
     "library": "var_list.py",
     "varRefreshCmd": "print(var_dic_list())"
    },
    "r": {
     "delete_cmd_postfix": ") ",
     "delete_cmd_prefix": "rm(",
     "library": "var_list.r",
     "varRefreshCmd": "cat(var_dic_list()) "
    }
   },
   "types_to_exclude": [
    "module",
    "function",
    "builtin_function_or_method",
    "instance",
    "_Feature"
   ],
   "window_display": false
  }
 },
 "nbformat": 4,
 "nbformat_minor": 5
}
