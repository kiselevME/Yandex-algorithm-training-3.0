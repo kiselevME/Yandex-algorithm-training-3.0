{
 "cells": [
  {
   "cell_type": "markdown",
   "id": "39f1504b",
   "metadata": {},
   "source": [
    "# задача"
   ]
  },
  {
   "cell_type": "code",
   "execution_count": 14,
   "id": "7469a001",
   "metadata": {
    "ExecuteTime": {
     "end_time": "2023-02-24T06:26:18.920428Z",
     "start_time": "2023-02-24T06:26:18.097557Z"
    }
   },
   "outputs": [
    {
     "name": "stdout",
     "output_type": "stream",
     "text": [
      "2\n",
      "4\n"
     ]
    }
   ],
   "source": [
    "N = int(input())\n",
    "\n",
    "ans = [-1] * max(N, 3)\n",
    "ans[0] = 2\n",
    "ans[1] = 4\n",
    "ans[2] = 7\n",
    "\n",
    "for i in range(3, N):\n",
    "    ans[i] = (ans[i-1] + ans[i-2] + ans[i-3])\n",
    "    \n",
    "print(ans[N-1])"
   ]
  },
  {
   "cell_type": "markdown",
   "id": "ca49f7a6",
   "metadata": {},
   "source": [
    "# задача"
   ]
  },
  {
   "cell_type": "code",
   "execution_count": 41,
   "id": "5923ec6a",
   "metadata": {
    "ExecuteTime": {
     "end_time": "2023-02-24T06:59:00.453530Z",
     "start_time": "2023-02-24T06:58:58.879393Z"
    }
   },
   "outputs": [
    {
     "name": "stdout",
     "output_type": "stream",
     "text": [
      "8 2\n",
      "21\n"
     ]
    }
   ],
   "source": [
    "N, K = map(int, input().split())\n",
    "\n",
    "ans = [0]*(max(N+1, K+2))\n",
    "for i in range(1, K+2):\n",
    "    ans[i] += 1\n",
    "\n",
    "for i in range(3, N+1):\n",
    "    for j in range(max(2, i-K), i):\n",
    "        ans[i] += ans[j]\n",
    "        \n",
    "print(ans[N])"
   ]
  },
  {
   "cell_type": "markdown",
   "id": "da8ce473",
   "metadata": {},
   "source": [
    "# задача"
   ]
  },
  {
   "cell_type": "code",
   "execution_count": 50,
   "id": "436161e3",
   "metadata": {
    "ExecuteTime": {
     "end_time": "2023-02-24T07:15:20.629143Z",
     "start_time": "2023-02-24T07:15:18.997426Z"
    }
   },
   "outputs": [
    {
     "name": "stdout",
     "output_type": "stream",
     "text": [
      "1\n",
      "0\n",
      "1 "
     ]
    }
   ],
   "source": [
    "N = int(input())\n",
    "\n",
    "ans = [0]*(N+1)\n",
    "prev = [-1]*(N+1)\n",
    "ans[1] = 0\n",
    "\n",
    "for i in range(2, N+1):\n",
    "    # +1\n",
    "    ans[i] = ans[i-1]+1\n",
    "    prev[i] = i-1\n",
    "    # *2\n",
    "    if (i % 2 == 0) and (ans[i//2]+1 < ans[i]):\n",
    "        ans[i] = ans[i//2]+1\n",
    "        prev[i] = i//2\n",
    "    # *3\n",
    "    if (i % 3 == 0) and (ans[i//3]+1 < ans[i]):\n",
    "        ans[i] = ans[i//3]+1\n",
    "        prev[i] = i//3\n",
    "        \n",
    "print(ans[N])\n",
    "\n",
    "result = [N]\n",
    "cur = N\n",
    "while cur != 1:\n",
    "    cur = prev[cur]\n",
    "    result.append(cur)\n",
    "\n",
    "for item in result[::-1]:\n",
    "    print(item, end = ' ')"
   ]
  },
  {
   "cell_type": "markdown",
   "id": "ab74ec37",
   "metadata": {
    "ExecuteTime": {
     "end_time": "2023-02-24T07:18:37.290257Z",
     "start_time": "2023-02-24T07:18:37.287915Z"
    }
   },
   "source": [
    "# задача"
   ]
  },
  {
   "cell_type": "code",
   "execution_count": 56,
   "id": "59bf3cb0",
   "metadata": {
    "ExecuteTime": {
     "end_time": "2023-02-24T07:34:33.806493Z",
     "start_time": "2023-02-24T07:34:33.797900Z"
    }
   },
   "outputs": [
    {
     "name": "stdout",
     "output_type": "stream",
     "text": [
      "12\n"
     ]
    }
   ],
   "source": [
    "f = open('input.txt', 'r')\n",
    "\n",
    "N = int(f.readline())\n",
    "costs = [(3601, 3601, 3601),(3601, 3601, 3601), (3601, 3601, 3601)]\n",
    "for i in range(N):\n",
    "    costs.append(list(map(int, f.readline().split())))\n",
    "f.close()\n",
    "\n",
    "\n",
    "res = [0] * (N+3)\n",
    "for i in range(3, N+3):\n",
    "    res[i] = min(res[i-1] + costs[i][0], res[i-2] + costs[i-1][1], res[i-3] + costs[i-2][2])\n",
    "    \n",
    "print(res[N+2])"
   ]
  },
  {
   "cell_type": "markdown",
   "id": "98f9bae6",
   "metadata": {},
   "source": [
    "# задача"
   ]
  },
  {
   "cell_type": "code",
   "execution_count": 58,
   "id": "cd443b5a",
   "metadata": {
    "ExecuteTime": {
     "end_time": "2023-02-24T07:53:22.889374Z",
     "start_time": "2023-02-24T07:53:22.881497Z"
    }
   },
   "outputs": [
    {
     "name": "stdout",
     "output_type": "stream",
     "text": [
      "5\n"
     ]
    }
   ],
   "source": [
    "f = open('input.txt', 'r')\n",
    "\n",
    "N = int(f.readline())\n",
    "pos = list(map(int, f.readline().split()))\n",
    "f.close()\n",
    "\n",
    "pos = sorted(pos, reverse = False)\n",
    "res = [10001]*N\n",
    "res[1] = pos[1] - pos[0]\n",
    "\n",
    "for i in range(2, N):\n",
    "    res[i] = min(res[i-1] + pos[i]-pos[i-1], res[i-2] + pos[i]-pos[i-1])\n",
    "    \n",
    "print(res[N-1])"
   ]
  },
  {
   "cell_type": "code",
   "execution_count": 59,
   "id": "5cd39bf6",
   "metadata": {
    "ExecuteTime": {
     "end_time": "2023-02-24T07:53:30.801058Z",
     "start_time": "2023-02-24T07:53:30.796455Z"
    }
   },
   "outputs": [
    {
     "data": {
      "text/plain": [
       "[10001, 1, 3, 7, 4, 5]"
      ]
     },
     "execution_count": 59,
     "metadata": {},
     "output_type": "execute_result"
    }
   ],
   "source": [
    "res"
   ]
  },
  {
   "cell_type": "code",
   "execution_count": null,
   "id": "427011ec",
   "metadata": {},
   "outputs": [],
   "source": []
  }
 ],
 "metadata": {
  "kernelspec": {
   "display_name": "Python (final_env)",
   "language": "python",
   "name": "final_env"
  },
  "language_info": {
   "codemirror_mode": {
    "name": "ipython",
    "version": 3
   },
   "file_extension": ".py",
   "mimetype": "text/x-python",
   "name": "python",
   "nbconvert_exporter": "python",
   "pygments_lexer": "ipython3",
   "version": "3.10.6"
  },
  "toc": {
   "base_numbering": 1,
   "nav_menu": {},
   "number_sections": true,
   "sideBar": true,
   "skip_h1_title": false,
   "title_cell": "Table of Contents",
   "title_sidebar": "Contents",
   "toc_cell": false,
   "toc_position": {},
   "toc_section_display": true,
   "toc_window_display": false
  },
  "varInspector": {
   "cols": {
    "lenName": 16,
    "lenType": 16,
    "lenVar": 40
   },
   "kernels_config": {
    "python": {
     "delete_cmd_postfix": "",
     "delete_cmd_prefix": "del ",
     "library": "var_list.py",
     "varRefreshCmd": "print(var_dic_list())"
    },
    "r": {
     "delete_cmd_postfix": ") ",
     "delete_cmd_prefix": "rm(",
     "library": "var_list.r",
     "varRefreshCmd": "cat(var_dic_list()) "
    }
   },
   "types_to_exclude": [
    "module",
    "function",
    "builtin_function_or_method",
    "instance",
    "_Feature"
   ],
   "window_display": false
  }
 },
 "nbformat": 4,
 "nbformat_minor": 5
}
