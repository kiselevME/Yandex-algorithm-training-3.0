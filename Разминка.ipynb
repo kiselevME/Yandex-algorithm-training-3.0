{
 "cells": [
  {
   "cell_type": "markdown",
   "id": "761c7126",
   "metadata": {},
   "source": [
    "# задача"
   ]
  },
  {
   "cell_type": "code",
   "execution_count": 44,
   "id": "040eb2c1",
   "metadata": {
    "ExecuteTime": {
     "end_time": "2023-02-13T20:18:31.287508Z",
     "start_time": "2023-02-13T20:18:31.276903Z"
    }
   },
   "outputs": [
    {
     "name": "stdout",
     "output_type": "stream",
     "text": [
      "     #   \n",
      "     ##  \n",
      "#########\n",
      "!,Hdelorw"
     ]
    }
   ],
   "source": [
    "dic = {}\n",
    "\n",
    "f = open('input.txt', 'r')\n",
    "\n",
    "inp = []\n",
    "for line in f:\n",
    "    for let in line:\n",
    "        if let not in dic.keys():\n",
    "            dic[let] = 1\n",
    "        else:\n",
    "            dic[let] += 1\n",
    "\n",
    "if ' ' in dic.keys():\n",
    "    del dic[' ']\n",
    "if '\\n' in dic.keys():\n",
    "    del dic['\\n']\n",
    "sorted_dic = sorted(dic.keys())\n",
    "\n",
    "max_val = sorted(dic.values(), reverse = True)[0]\n",
    "len_dic = len(sorted_dic)\n",
    "for i in range (max_val, 0, -1):\n",
    "    output = ''\n",
    "    for j in range(len_dic):\n",
    "        if dic[sorted_dic[j]] >= i:\n",
    "              output += '#'\n",
    "        else:\n",
    "              output += ' '\n",
    "    print(output)\n",
    "    \n",
    "for j in range(len_dic):\n",
    "    print(sorted_dic[j], end = '')"
   ]
  },
  {
   "cell_type": "markdown",
   "id": "40652e0a",
   "metadata": {},
   "source": [
    "# задача"
   ]
  },
  {
   "cell_type": "code",
   "execution_count": 62,
   "id": "8d87908e",
   "metadata": {
    "ExecuteTime": {
     "end_time": "2023-02-13T21:05:41.806118Z",
     "start_time": "2023-02-13T21:05:41.793692Z"
    }
   },
   "outputs": [
    {
     "name": "stdout",
     "output_type": "stream",
     "text": [
      "5\n"
     ]
    }
   ],
   "source": [
    "f = open('input.txt', 'r')\n",
    "\n",
    "inp = []\n",
    "for line in f:\n",
    "    inp.append(line)\n",
    "f.close()\n",
    "k = int(inp[0])\n",
    "inp = list(inp[1])\n",
    "\n",
    "unique = []\n",
    "for item in inp:\n",
    "    if item not in unique:\n",
    "        unique.append(item)\n",
    "\n",
    "global_max_len = 0\n",
    "for item in unique:\n",
    "    ind1 = 0\n",
    "    ind2 = 0\n",
    "    max_len = 0\n",
    "    cur_len = 0\n",
    "    cur_fill = 0\n",
    "    while ind1 < len(inp):\n",
    "#         print('item:', item)\n",
    "#         print('max_len:', max_len)\n",
    "#         print('cur_len:', cur_len)\n",
    "#         print('cur_fill:', cur_fill)\n",
    "#         print()\n",
    "        if cur_fill < k:\n",
    "            cur_len += 1\n",
    "            if inp[ind1] != item:\n",
    "                cur_fill += 1\n",
    "            ind1 += 1\n",
    "        else:\n",
    "            if inp[ind1] == item:\n",
    "                cur_len += 1\n",
    "                ind1 += 1\n",
    "            else:\n",
    "                max_len = max(max_len, cur_len)\n",
    "                cur_len -= 1\n",
    "                if inp[ind2] != item:\n",
    "                    cur_fill -= 1\n",
    "                ind2 += 1\n",
    "    max_len = max(max_len, cur_len)            \n",
    "    \n",
    "    global_max_len = max(global_max_len, max_len)\n",
    "    \n",
    "print(global_max_len)"
   ]
  },
  {
   "cell_type": "markdown",
   "id": "56e690f4",
   "metadata": {},
   "source": [
    "# задача"
   ]
  },
  {
   "cell_type": "code",
   "execution_count": 8,
   "id": "ea1602e5",
   "metadata": {
    "ExecuteTime": {
     "end_time": "2023-02-19T12:03:32.615568Z",
     "start_time": "2023-02-19T12:03:32.605901Z"
    },
    "scrolled": true
   },
   "outputs": [
    {
     "name": "stdout",
     "output_type": "stream",
     "text": [
      "3\n",
      "0\n",
      "2\n"
     ]
    }
   ],
   "source": [
    "f = open('input.txt', 'r')\n",
    "N = int(f.readline())\n",
    "Diego = list(map(int, f.readline().split()))\n",
    "K = int(f.readline())\n",
    "Collector = list(map(int, f.readline().split()))\n",
    "f.close()\n",
    "\n",
    "Diego = sorted(Diego)\n",
    "Diego_uniq = []\n",
    "N_uniq = 0\n",
    "for item in Diego:\n",
    "    if len(Diego_uniq) == 0 or item > Diego_uniq[-1]:\n",
    "        Diego_uniq.append(item)\n",
    "        N_uniq += 1\n",
    "\n",
    "col_index = sorted(range(K), key = Collector.__getitem__)\n",
    "Collector = sorted(Collector)\n",
    "\n",
    "output = [-1] * K\n",
    "ind_D = 0\n",
    "ind_C = 0\n",
    "while ind_C < K and ind_D < N_uniq:\n",
    "    if Collector[ind_C] <= Diego_uniq[ind_D]:\n",
    "        output[col_index[ind_C]] = ind_D\n",
    "        ind_C += 1\n",
    "    else:\n",
    "        ind_D += 1\n",
    "        \n",
    "if ind_D == N_uniq:\n",
    "    while ind_C < K:\n",
    "        output[col_index[ind_C]] = N_uniq\n",
    "        ind_C += 1\n",
    "        \n",
    "for i in range(K):\n",
    "    print(output[i])"
   ]
  },
  {
   "cell_type": "markdown",
   "id": "f81f9e96",
   "metadata": {},
   "source": [
    "# задача"
   ]
  },
  {
   "cell_type": "code",
   "execution_count": 15,
   "id": "86720291",
   "metadata": {
    "ExecuteTime": {
     "end_time": "2023-02-19T12:26:44.261443Z",
     "start_time": "2023-02-19T12:26:44.250195Z"
    }
   },
   "outputs": [
    {
     "name": "stdout",
     "output_type": "stream",
     "text": [
      "-1\n"
     ]
    }
   ],
   "source": [
    "f = open('input.txt', 'r')\n",
    "N = int(f.readline())\n",
    "K = int(f.readline())\n",
    "Petr_row = int(f.readline())\n",
    "Petr_seat = int(f.readline())\n",
    "f.close()\n",
    "\n",
    "\n",
    "Petr = (Petr_row-1)*2 + Petr_seat\n",
    "Vasya_forward = Petr - K\n",
    "Vasya_backward = Petr + K\n",
    "\n",
    "Vasya_forward_row = (Vasya_forward+1)//2\n",
    "Vasya_backward_row = (Vasya_backward+1)//2\n",
    "\n",
    "if (Vasya_forward > 0) and (Vasya_backward <= N):\n",
    "    if (Petr_row-Vasya_forward_row) >= (Vasya_backward_row-Petr_row):\n",
    "        print(Vasya_backward_row, (Vasya_backward+1)%2 + 1)\n",
    "    else:\n",
    "        print(Vasya_forward_row, (Vasya_forward+1)%2 + 1)\n",
    "        \n",
    "elif (Vasya_forward <= 0) and (Vasya_backward <= N):\n",
    "    print(Vasya_backward_row, (Vasya_backward+1)%2 + 1)\n",
    "    \n",
    "elif (Vasya_forward > 0) and (Vasya_backward > N):\n",
    "    print(Vasya_forward_row, (Vasya_forward+1)%2 + 1)\n",
    "else:\n",
    "    print(-1)"
   ]
  },
  {
   "cell_type": "markdown",
   "id": "df623b82",
   "metadata": {},
   "source": [
    "# задача"
   ]
  },
  {
   "cell_type": "code",
   "execution_count": 20,
   "id": "1c3cce73",
   "metadata": {
    "ExecuteTime": {
     "end_time": "2023-02-19T12:38:00.054578Z",
     "start_time": "2023-02-19T12:38:00.048445Z"
    }
   },
   "outputs": [
    {
     "name": "stdout",
     "output_type": "stream",
     "text": [
      "9\n"
     ]
    }
   ],
   "source": [
    "f = open('input.txt', 'r')\n",
    "N = int(f.readline())\n",
    "cnt = []\n",
    "for i in range(N):\n",
    "    cnt.append(int(f.readline()))\n",
    "f.close()\n",
    "\n",
    "result = 0\n",
    "for i in range(N-1):\n",
    "    result += min(cnt[i], cnt[i+1])\n",
    "    \n",
    "print(result)"
   ]
  },
  {
   "cell_type": "markdown",
   "id": "ad8f4e39",
   "metadata": {},
   "source": [
    "# задача"
   ]
  },
  {
   "cell_type": "code",
   "execution_count": 45,
   "id": "e23e7cfa",
   "metadata": {
    "ExecuteTime": {
     "end_time": "2023-02-19T13:38:38.738979Z",
     "start_time": "2023-02-19T13:38:38.728558Z"
    }
   },
   "outputs": [
    {
     "name": "stdout",
     "output_type": "stream",
     "text": [
      "3\n"
     ]
    }
   ],
   "source": [
    "f = open('input.txt', 'r')\n",
    "M = int(f.readline())\n",
    "N = int(f.readline())\n",
    "borders = []\n",
    "for i in range(N):\n",
    "    borders.append(list(map(int, f.readline().split())))\n",
    "f.close()\n",
    "\n",
    "\n",
    "working_systems = []\n",
    "for item in borders: # 1000\n",
    "    actual_working_systems = [item]\n",
    "    for sys in working_systems: # 1000*1000 = 1e6\n",
    "        if ((item[1] < sys[0]) or (item[0] > sys[1])):\n",
    "                actual_working_systems.append(sys)\n",
    "    working_systems = actual_working_systems\n",
    "                \n",
    "print(len(working_systems))"
   ]
  },
  {
   "cell_type": "markdown",
   "id": "f7262bd4",
   "metadata": {},
   "source": [
    "# задача"
   ]
  },
  {
   "cell_type": "code",
   "execution_count": 93,
   "id": "1768f7b4",
   "metadata": {
    "ExecuteTime": {
     "end_time": "2023-02-19T14:11:25.013441Z",
     "start_time": "2023-02-19T14:11:25.003386Z"
    }
   },
   "outputs": [
    {
     "name": "stdout",
     "output_type": "stream",
     "text": [
      "23:51:01\n"
     ]
    }
   ],
   "source": [
    "from math import ceil\n",
    "\n",
    "f = open('input.txt', 'r')\n",
    "A = list(map(int, f.readline().split(':')))\n",
    "B = list(map(int, f.readline().split(':')))\n",
    "C = list(map(int, f.readline().split(':')))\n",
    "f.close()\n",
    "\n",
    "delta = (C[0]*3600 + C[1]*60 + C[2]) - (A[0]*3600 + A[1]*60 + A[2])\n",
    "if delta < 0:\n",
    "    delta += 86400\n",
    "delta = ceil(delta/2)\n",
    "\n",
    "current_time = (B[0]*3600 + B[1]*60 + B[2]) + delta\n",
    "if current_time >= 86400:\n",
    "    current_time -= 86400\n",
    "    \n",
    "\n",
    "current_hour = str(int(current_time // 3600))\n",
    "if len(current_hour) == 1:\n",
    "    current_hour = '0' + current_hour\n",
    "    \n",
    "current_minute = str(int((current_time % 3600)//60))\n",
    "if len(current_minute) == 1:\n",
    "    current_minute = '0' + current_minute\n",
    "    \n",
    "current_second = str(int(current_time % 60))\n",
    "if len(current_second) == 1:\n",
    "    current_second = '0' + current_second\n",
    "\n",
    "print(f'{current_hour}:{current_minute}:{current_second}')"
   ]
  },
  {
   "cell_type": "markdown",
   "id": "df1205f1",
   "metadata": {},
   "source": [
    "# задача"
   ]
  },
  {
   "cell_type": "code",
   "execution_count": 103,
   "id": "fdcc4114",
   "metadata": {
    "ExecuteTime": {
     "end_time": "2023-02-19T14:19:47.136844Z",
     "start_time": "2023-02-19T14:19:47.122808Z"
    }
   },
   "outputs": [
    {
     "name": "stdout",
     "output_type": "stream",
     "text": [
      "1 1 5 10\n"
     ]
    }
   ],
   "source": [
    "f = open('input.txt', 'r')\n",
    "K = int(f.readline())\n",
    "points = []\n",
    "for i in range(K):\n",
    "    points.append(list(map(int, f.readline().split())))\n",
    "f.close()\n",
    "\n",
    "left = points[0][0]\n",
    "right = points[0][0]\n",
    "up = points[0][1]\n",
    "down = points[0][1]\n",
    "\n",
    "for item in points:\n",
    "    left = min(left, item[0])\n",
    "    right = max(right, item[0])\n",
    "    up = max(up, item[1])\n",
    "    down = min(down, item[1])\n",
    "    \n",
    "print(left, down, right, up)"
   ]
  },
  {
   "cell_type": "markdown",
   "id": "1371c2fa",
   "metadata": {},
   "source": [
    "# задача"
   ]
  },
  {
   "cell_type": "code",
   "execution_count": 162,
   "id": "d060dae1",
   "metadata": {
    "ExecuteTime": {
     "end_time": "2023-02-19T15:26:35.732441Z",
     "start_time": "2023-02-19T15:26:35.723095Z"
    }
   },
   "outputs": [
    {
     "name": "stdout",
     "output_type": "stream",
     "text": [
      "28\n",
      "21\n"
     ]
    }
   ],
   "source": [
    "f = open('input.txt', 'r')\n",
    "N, M, K = map(int, f.readline().split())\n",
    "matrix = [[0] * (M+1)]\n",
    "for i in range(N):\n",
    "    matrix.append(list(map(int, [0] + f.readline().split())))\n",
    "requests = []\n",
    "for i in range(K):\n",
    "    requests.append(list(map(int, f.readline().split())))\n",
    "f.close()\n",
    "\n",
    "\n",
    "for i in range(N+1):\n",
    "    for j in range(1, M+1):\n",
    "        matrix[i][j] = matrix[i][j-1] + matrix[i][j]\n",
    "        \n",
    "for j in range(M+1):\n",
    "    for i in range(1, N+1):\n",
    "        matrix[i][j] = matrix[i-1][j] + matrix[i][j]\n",
    "        \n",
    "for req in requests:\n",
    "    sum_1 = matrix[req[2]][req[1]-1] - matrix[req[0]-1][req[1]-1]\n",
    "    sum_2 = matrix[req[2]][req[3]] - matrix[req[0]-1][req[3]]\n",
    "    print(sum_2-sum_1)"
   ]
  },
  {
   "cell_type": "markdown",
   "id": "f6542f66",
   "metadata": {},
   "source": [
    "# задача"
   ]
  },
  {
   "cell_type": "code",
   "execution_count": 212,
   "id": "a587c648",
   "metadata": {
    "ExecuteTime": {
     "end_time": "2023-02-19T16:17:46.706397Z",
     "start_time": "2023-02-19T16:17:45.718374Z"
    }
   },
   "outputs": [
    {
     "name": "stdout",
     "output_type": "stream",
     "text": [
      "abacaba\n",
      "a: 44\n",
      "b: 24\n",
      "c: 16\n"
     ]
    }
   ],
   "source": [
    "word = input()\n",
    "\n",
    "dic = {}\n",
    "n = len(word)\n",
    "\n",
    "for i in range(n//2):\n",
    "    if word[i] not in dic.keys():\n",
    "        dic[word[i]] = 0\n",
    "    if word[n-1 - i] not in dic.keys():\n",
    "        dic[word[n-1 - i]] = 0\n",
    "    dic[word[i]] += ((i+1)*(i+2)/2 + max(n//2-1 - i, 0)*(i+1))*2\n",
    "    dic[word[n-1 - i]] += ((i+1)*(i+2)/2 + max(n//2-1 - i, 0)*(i+1))*2\n",
    "    if n%2 == 1:\n",
    "        dic[word[i]] += min(i+1, n-i)\n",
    "        dic[word[n-1 - i]] += min(i+1, n-i)\n",
    "        \n",
    "if n%2 == 1:\n",
    "    i = (n-1)//2\n",
    "    if word[i] not in dic.keys():\n",
    "        dic[word[i]] = 0\n",
    "    dic[word[i]] += (i+1)*(i+1)\n",
    "    \n",
    "for key in sorted(dic.keys()):\n",
    "    print(f'{key}: {int(dic[key])}')"
   ]
  },
  {
   "cell_type": "code",
   "execution_count": null,
   "id": "cb433076",
   "metadata": {},
   "outputs": [],
   "source": []
  }
 ],
 "metadata": {
  "kernelspec": {
   "display_name": "Python (final_env)",
   "language": "python",
   "name": "final_env"
  },
  "language_info": {
   "codemirror_mode": {
    "name": "ipython",
    "version": 3
   },
   "file_extension": ".py",
   "mimetype": "text/x-python",
   "name": "python",
   "nbconvert_exporter": "python",
   "pygments_lexer": "ipython3",
   "version": "3.10.6"
  },
  "toc": {
   "base_numbering": 1,
   "nav_menu": {},
   "number_sections": true,
   "sideBar": true,
   "skip_h1_title": false,
   "title_cell": "Table of Contents",
   "title_sidebar": "Contents",
   "toc_cell": false,
   "toc_position": {},
   "toc_section_display": true,
   "toc_window_display": false
  },
  "varInspector": {
   "cols": {
    "lenName": 16,
    "lenType": 16,
    "lenVar": 40
   },
   "kernels_config": {
    "python": {
     "delete_cmd_postfix": "",
     "delete_cmd_prefix": "del ",
     "library": "var_list.py",
     "varRefreshCmd": "print(var_dic_list())"
    },
    "r": {
     "delete_cmd_postfix": ") ",
     "delete_cmd_prefix": "rm(",
     "library": "var_list.r",
     "varRefreshCmd": "cat(var_dic_list()) "
    }
   },
   "types_to_exclude": [
    "module",
    "function",
    "builtin_function_or_method",
    "instance",
    "_Feature"
   ],
   "window_display": false
  }
 },
 "nbformat": 4,
 "nbformat_minor": 5
}
