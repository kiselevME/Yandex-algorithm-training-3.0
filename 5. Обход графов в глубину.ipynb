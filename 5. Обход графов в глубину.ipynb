{
 "cells": [
  {
   "cell_type": "markdown",
   "id": "2c13f6c1",
   "metadata": {},
   "source": [
    "# задача"
   ]
  },
  {
   "cell_type": "code",
   "execution_count": 28,
   "id": "c714c6d3",
   "metadata": {
    "ExecuteTime": {
     "end_time": "2023-03-04T11:30:16.066292Z",
     "start_time": "2023-03-04T11:30:16.053391Z"
    }
   },
   "outputs": [
    {
     "name": "stdout",
     "output_type": "stream",
     "text": [
      "4\n",
      "1 2 3 4 "
     ]
    }
   ],
   "source": [
    "# Ввод графа\n",
    "f = open('input.txt', 'r')\n",
    "N, M = map(int, f.readline().split())\n",
    "graph = [[]] * (N+1)\n",
    "for i in range(M):\n",
    "    cur = list(map(int, f.readline().split()))\n",
    "    if cur[0] != cur[1]: # игнорируем петли\n",
    "        if len(graph[cur[0]]) == 0:\n",
    "            graph[cur[0]] = [] # переопределение списка соседей\n",
    "        graph[cur[0]].append(cur[1])\n",
    "        if len(graph[cur[1]]) == 0:\n",
    "            graph[cur[1]] = [] # переопределение списка соседей\n",
    "        graph[cur[1]].append(cur[0])\n",
    "f.close()\n",
    "\n",
    "for i in range(N+1):\n",
    "    graph[i] = list(set(graph[i])) # удаляем кратные ребра\n",
    "\n",
    "# Функция обхода в глубину\n",
    "def dfs(graph, visited, pos):\n",
    "    visited[pos] = True\n",
    "    for neig in graph[pos]:\n",
    "        if visited[neig] == False:\n",
    "            dfs(graph, visited, neig)\n",
    "    \n",
    "# Основная часть  \n",
    "visited = [False] * (N+1)\n",
    "dfs(graph, visited, 1)\n",
    "\n",
    "cnt = 0\n",
    "ans = []\n",
    "for i in range(1,N+1):\n",
    "    if visited[i]:\n",
    "        cnt += 1\n",
    "        ans.append(i)\n",
    "    \n",
    "ans = sorted(ans, reverse = False)\n",
    "print(cnt)\n",
    "for item in ans:\n",
    "    print(item, end = ' ')"
   ]
  },
  {
   "cell_type": "markdown",
   "id": "5ceecef1",
   "metadata": {},
   "source": [
    "# задача"
   ]
  },
  {
   "cell_type": "code",
   "execution_count": 60,
   "id": "b5975f7c",
   "metadata": {
    "ExecuteTime": {
     "end_time": "2023-03-04T12:27:52.647624Z",
     "start_time": "2023-03-04T12:27:52.628334Z"
    }
   },
   "outputs": [
    {
     "name": "stdout",
     "output_type": "stream",
     "text": [
      "3\n",
      "3\n",
      "1 2 3\n",
      "2\n",
      "4 5\n",
      "1\n",
      "6\n"
     ]
    }
   ],
   "source": [
    "from sys import setrecursionlimit\n",
    "setrecursionlimit(100000)\n",
    "# Ввод графа\n",
    "f = open('input.txt', 'r')\n",
    "N, M = map(int, f.readline().split())\n",
    "graph = [[]] * (N+1)\n",
    "for i in range(M):\n",
    "    cur = list(map(int, f.readline().split()))\n",
    "    if cur[0] != cur[1]: # игнорируем петли\n",
    "        if len(graph[cur[0]]) == 0:\n",
    "            graph[cur[0]] = [] # переопределение списка соседей\n",
    "        graph[cur[0]].append(cur[1])\n",
    "        if len(graph[cur[1]]) == 0:\n",
    "            graph[cur[1]] = [] # переопределение списка соседей\n",
    "        graph[cur[1]].append(cur[0])\n",
    "f.close()\n",
    "\n",
    "for i in range(N+1):\n",
    "    graph[i] = list(set(graph[i])) # удаляем кратные ребра\n",
    "\n",
    "# Функция обхода в глубину\n",
    "def dfs(graph, visited, pos, mark):\n",
    "    visited[pos] = mark\n",
    "    for neig in graph[pos]:\n",
    "        if visited[neig] != mark:\n",
    "            dfs(graph, visited, neig, mark)\n",
    "    \n",
    "# Основная часть  \n",
    "visited = [0] * (N+1)\n",
    "n_comp = 0\n",
    "\n",
    "for pos in range(1, N+1):\n",
    "    if visited[pos] == 0:\n",
    "        n_comp += 1\n",
    "        dfs(graph, visited, pos, n_comp)\n",
    "\n",
    "# Вывод\n",
    "print(n_comp)\n",
    "\n",
    "ans = {}\n",
    "for i in range(1, N+1):\n",
    "    if visited[i] not in ans.keys():\n",
    "        ans[visited[i]] = []\n",
    "    ans[visited[i]].append(i)\n",
    "    \n",
    "for key in ans.keys():\n",
    "    n_elem = len(ans[key])\n",
    "    print(n_elem)\n",
    "    for i in range(n_elem):\n",
    "        if i != n_elem-1:\n",
    "            print(ans[key][i], end = ' ')\n",
    "        else:\n",
    "            print(ans[key][i])"
   ]
  },
  {
   "cell_type": "markdown",
   "id": "25fddce2",
   "metadata": {},
   "source": [
    "# задача"
   ]
  },
  {
   "cell_type": "code",
   "execution_count": 65,
   "id": "feff4a78",
   "metadata": {
    "ExecuteTime": {
     "end_time": "2023-03-05T10:23:05.199421Z",
     "start_time": "2023-03-05T10:23:05.185043Z"
    }
   },
   "outputs": [
    {
     "name": "stdout",
     "output_type": "stream",
     "text": [
      "NO\n"
     ]
    }
   ],
   "source": [
    "# Ввод графа\n",
    "f = open('input.txt', 'r')\n",
    "N, M = map(int, f.readline().split())\n",
    "graph = [[]] * (N+1)\n",
    "for i in range(M):\n",
    "    cur = list(map(int, f.readline().split()))\n",
    "    if cur[0] != cur[1]: # игнорируем петли\n",
    "        if len(graph[cur[0]]) == 0:\n",
    "            graph[cur[0]] = [] # переопределение списка соседей\n",
    "        graph[cur[0]].append(cur[1])\n",
    "        if len(graph[cur[1]]) == 0:\n",
    "            graph[cur[1]] = [] # переопределение списка соседей\n",
    "        graph[cur[1]].append(cur[0])\n",
    "f.close()\n",
    "\n",
    "for i in range(N+1):\n",
    "    graph[i] = list(set(graph[i])) # удаляем кратные ребра\n",
    "\n",
    "# Функция обхода в глубину\n",
    "def dfs(graph, visited, pos, color):\n",
    "    visited[pos] = color\n",
    "    for neig in graph[pos]:\n",
    "        if visited[neig] == 0:\n",
    "            dfs(graph, visited, neig, 3 - color)\n",
    "    \n",
    "# Основная часть  \n",
    "visited = [0] * (N+1)\n",
    "for pos in range(1, N+1):\n",
    "    if visited[pos] == 0:\n",
    "        dfs(graph, visited, pos, 1)\n",
    "\n",
    "ans = 'YES'\n",
    "for i in range(1, N+1):\n",
    "    for item in graph[i]:\n",
    "        if visited[i] == visited[item]:\n",
    "            ans = 'NO'\n",
    "        \n",
    "print(ans)"
   ]
  },
  {
   "cell_type": "markdown",
   "id": "12c00701",
   "metadata": {},
   "source": [
    "# задача"
   ]
  },
  {
   "cell_type": "code",
   "execution_count": 2,
   "id": "840ae65f",
   "metadata": {
    "ExecuteTime": {
     "end_time": "2023-03-05T18:20:29.181079Z",
     "start_time": "2023-03-05T18:20:29.080634Z"
    }
   },
   "outputs": [
    {
     "name": "stdout",
     "output_type": "stream",
     "text": [
      "-1\n"
     ]
    }
   ],
   "source": [
    "from sys import setrecursionlimit\n",
    "setrecursionlimit(100000)\n",
    "# Ввод графа\n",
    "f = open('input.txt', 'r')\n",
    "N, M = map(int, f.readline().split())\n",
    "graph_from = [[]] * (N+1)\n",
    "graph_to = [[]] * (N+1)\n",
    "for i in range(M):\n",
    "    cur = list(map(int, f.readline().split()))\n",
    "#     if cur[0] != cur[1]: # игнорируем петли\n",
    "    if len(graph_from[cur[0]]) == 0:\n",
    "        graph_from[cur[0]] = [] # переопределение списка соседей\n",
    "    graph_from[cur[0]].append(cur[1])\n",
    "    if len(graph_to[cur[1]]) == 0:\n",
    "        graph_to[cur[1]] = [] # переопределение списка соседей\n",
    "    graph_to[cur[1]].append(cur[0])\n",
    "f.close()\n",
    "\n",
    "# Функция обхода в глубину\n",
    "def dfs(graph_from, graph_to, visited, ans, pos):\n",
    "    global flag\n",
    "    visited[pos] = 1\n",
    "    for neig in graph_to[pos]:\n",
    "        \n",
    "        if visited[neig] == 0:\n",
    "            dfs(graph_from, graph_to, visited, ans, neig)\n",
    "        if visited[neig] == 1:\n",
    "            flag = 1\n",
    "\n",
    "    visited[pos] = 2\n",
    "    ans.append(pos)\n",
    "    \n",
    "# Основная часть  \n",
    "visited = [0] * (N+1)\n",
    "ans = []\n",
    "flag = 0\n",
    "for pos in range(1, N+1):\n",
    "    if visited[pos] == 0 and len(graph_from[pos]) == 0:\n",
    "        dfs(graph_from, graph_to, visited, ans, pos)\n",
    "\n",
    "for item in visited[1:]:\n",
    "    if item == 0:\n",
    "        flag = 1\n",
    "if flag == 1:\n",
    "    print(-1)\n",
    "else:\n",
    "    for item in ans:\n",
    "        print(item, end = ' ')"
   ]
  },
  {
   "cell_type": "markdown",
   "id": "c993e258",
   "metadata": {},
   "source": [
    "# задача"
   ]
  },
  {
   "cell_type": "code",
   "execution_count": 2,
   "id": "498e4d94",
   "metadata": {
    "ExecuteTime": {
     "end_time": "2023-03-12T18:38:40.082844Z",
     "start_time": "2023-03-12T18:38:40.003530Z"
    }
   },
   "outputs": [
    {
     "name": "stdout",
     "output_type": "stream",
     "text": [
      "YES\n",
      "23\n",
      "89 202 67 65 326 485 258 43 255 120 384 9 33 358 32 35 227 70 486 140 192 88 165 "
     ]
    }
   ],
   "source": [
    "# Ввод графа\n",
    "f = open('input.txt', 'r')\n",
    "N = int(f.readline())\n",
    "graph = [[]] * (N+1)\n",
    "for i in range(N):\n",
    "    cur = list(map(int, f.readline().split()))\n",
    "    for j in range(len(cur)):\n",
    "        if len(graph[i+1]) == 0:\n",
    "            graph[i+1] = [] # переопределение списка соседей\n",
    "        if cur[j] == 1:\n",
    "            graph[i+1].append(j+1)\n",
    "f.close()\n",
    "\n",
    "for i in range(N+1):\n",
    "    graph[i] = list(set(graph[i])) # удаляем кратные ребра\n",
    "\n",
    "# Функция обхода в глубину\n",
    "def dfs(graph, visited, pos, prev_pos):\n",
    "    global cycle\n",
    "    visited[pos] = 1\n",
    "    \n",
    "    for neig in graph[pos]:\n",
    "        if neig == prev_pos:\n",
    "            continue\n",
    "        \n",
    "        if visited[neig] == 0:\n",
    "            if dfs(graph, visited, neig, pos) == 1:\n",
    "                cycle.append(pos)\n",
    "                return 1\n",
    "                \n",
    "        elif visited[neig] == 1:\n",
    "            cycle = [neig, pos]\n",
    "            return 1\n",
    "        \n",
    "    visited[pos] = 2\n",
    "    return 0\n",
    "    \n",
    "# Основная часть  \n",
    "visited = [0] * (N+1)\n",
    "for pos in range(1, N+1):\n",
    "    if visited[pos] == 0:\n",
    "        cycle = [pos]\n",
    "        val = dfs(graph, visited, pos, 0)\n",
    "        if val > 0:\n",
    "            break\n",
    "        \n",
    "if val == 0:\n",
    "    print('NO')\n",
    "else:\n",
    "    print('YES')\n",
    "    ans = [cycle[0]] \n",
    "    for item in cycle[1:]:\n",
    "        if item != cycle[0]:\n",
    "            ans.append(item)\n",
    "        else:\n",
    "            break\n",
    "    print(len(ans))\n",
    "    for item in ans:\n",
    "        print(item, end = ' ')"
   ]
  },
  {
   "cell_type": "code",
   "execution_count": null,
   "id": "10f12d07",
   "metadata": {},
   "outputs": [],
   "source": []
  }
 ],
 "metadata": {
  "kernelspec": {
   "display_name": "Python (final_env)",
   "language": "python",
   "name": "final_env"
  },
  "language_info": {
   "codemirror_mode": {
    "name": "ipython",
    "version": 3
   },
   "file_extension": ".py",
   "mimetype": "text/x-python",
   "name": "python",
   "nbconvert_exporter": "python",
   "pygments_lexer": "ipython3",
   "version": "3.10.6"
  },
  "toc": {
   "base_numbering": 1,
   "nav_menu": {},
   "number_sections": true,
   "sideBar": true,
   "skip_h1_title": false,
   "title_cell": "Table of Contents",
   "title_sidebar": "Contents",
   "toc_cell": false,
   "toc_position": {},
   "toc_section_display": true,
   "toc_window_display": false
  },
  "varInspector": {
   "cols": {
    "lenName": 16,
    "lenType": 16,
    "lenVar": 40
   },
   "kernels_config": {
    "python": {
     "delete_cmd_postfix": "",
     "delete_cmd_prefix": "del ",
     "library": "var_list.py",
     "varRefreshCmd": "print(var_dic_list())"
    },
    "r": {
     "delete_cmd_postfix": ") ",
     "delete_cmd_prefix": "rm(",
     "library": "var_list.r",
     "varRefreshCmd": "cat(var_dic_list()) "
    }
   },
   "types_to_exclude": [
    "module",
    "function",
    "builtin_function_or_method",
    "instance",
    "_Feature"
   ],
   "window_display": false
  }
 },
 "nbformat": 4,
 "nbformat_minor": 5
}
